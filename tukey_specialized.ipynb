{
 "cells": [
  {
   "cell_type": "code",
   "execution_count": 1,
   "metadata": {},
   "outputs": [
    {
     "name": "stderr",
     "output_type": "stream",
     "text": [
      "/home/gmrukwa/miniconda3/envs/pubs/lib/python3.6/site-packages/IPython/config.py:13: ShimWarning: The `IPython.config` package has been deprecated since IPython 4.0. You should import from traitlets.config instead.\n",
      "  \"You should import from traitlets.config instead.\", ShimWarning)\n",
      "/home/gmrukwa/miniconda3/envs/pubs/lib/python3.6/site-packages/ipycache.py:17: UserWarning: IPython.utils.traitlets has moved to a top-level traitlets package.\n",
      "  from IPython.utils.traitlets import Unicode\n"
     ]
    }
   ],
   "source": [
    "from collections import Counter\n",
    "from functools import partial\n",
    "import gc\n",
    "from multiprocessing import Pool\n",
    "\n",
    "import numpy as np\n",
    "import pandas as pd\n",
    "from scipy.stats import f_oneway\n",
    "from scipy.spatial.distance import squareform\n",
    "from statsmodels.stats.multicomp import pairwise_tukeyhsd\n",
    "from tqdm import trange\n",
    "\n",
    "from make_embedding import *\n",
    "\n",
    "%load_ext ipycache"
   ]
  },
  {
   "cell_type": "code",
   "execution_count": 2,
   "metadata": {},
   "outputs": [],
   "source": [
    "embedding = load_pickle(r'data/specialized_embedding.pkl').toarray()"
   ]
  },
  {
   "cell_type": "code",
   "execution_count": 3,
   "metadata": {},
   "outputs": [],
   "source": [
    "vectorizer = load_pickle(r'data/specialized_vectorizer.pkl')\n",
    "words = np.array(vectorizer.get_feature_names())\n",
    "del vectorizer"
   ]
  },
  {
   "cell_type": "code",
   "execution_count": 4,
   "metadata": {},
   "outputs": [],
   "source": [
    "data = load_pickle(r'data/clean.pkl')\n",
    "categories = load_json(r'categories-specialized.json')\n",
    "subset = select_categories(data, categories)\n",
    "del data\n",
    "data = subset"
   ]
  },
  {
   "cell_type": "code",
   "execution_count": 5,
   "metadata": {},
   "outputs": [
    {
     "data": {
      "text/plain": [
       "0"
      ]
     },
     "execution_count": 5,
     "metadata": {},
     "output_type": "execute_result"
    }
   ],
   "source": [
    "gc.collect()"
   ]
  },
  {
   "cell_type": "code",
   "execution_count": 6,
   "metadata": {},
   "outputs": [
    {
     "name": "stdout",
     "output_type": "stream",
     "text": [
      "[Skipped the cell's code and loaded variables anova_pvals from file '/home/gmrukwa/source/publication-domain-discernibility/anova_specialized.pkl'.]\n"
     ]
    },
    {
     "name": "stderr",
     "output_type": "stream",
     "text": [
      "100%|##########| 100000/100000 [00:40<00:00, 2471.19it/s]\n"
     ]
    }
   ],
   "source": [
    "%%cache anova_specialized.pkl anova_pvals\n",
    "_selectors = [data.domain == group for group in categories]\n",
    "_PVALUE_ID = 1\n",
    "anova_pvals = np.array([\n",
    "    f_oneway(*[\n",
    "        embedding[selector, i] for selector in _selectors\n",
    "    ])[_PVALUE_ID]\n",
    "    for i in trange(embedding.shape[1])\n",
    "])"
   ]
  },
  {
   "cell_type": "code",
   "execution_count": 7,
   "metadata": {},
   "outputs": [],
   "source": [
    "def tukey(i):\n",
    "    return pairwise_tukeyhsd(embedding[:, i], data.domain)\n",
    "\n",
    "_n = embedding.shape[1]\n",
    "_ends = _n // 4, _n // 2, 3 * (_n // 4), _n"
   ]
  },
  {
   "cell_type": "code",
   "execution_count": 8,
   "metadata": {},
   "outputs": [
    {
     "name": "stdout",
     "output_type": "stream",
     "text": [
      "[Skipped the cell's code and loaded variables _tukey1 from file '/home/gmrukwa/source/publication-domain-discernibility/tukey_1_specialized.pkl'.]\n"
     ]
    },
    {
     "name": "stderr",
     "output_type": "stream",
     "text": [
      "100%|##########| 25000/25000 [00:00<00:00, 615954.32it/s]\n"
     ]
    }
   ],
   "source": [
    "%%cache tukey_1_specialized.pkl _tukey1\n",
    "with Pool(maxtasksperchild=5) as pool:\n",
    "    _tukey1 = list(pool.map(tukey, trange(_ends[0]), chunksize=1000))"
   ]
  },
  {
   "cell_type": "code",
   "execution_count": 9,
   "metadata": {},
   "outputs": [
    {
     "name": "stdout",
     "output_type": "stream",
     "text": [
      "[Skipped the cell's code and loaded variables _tukey2 from file '/home/gmrukwa/source/publication-domain-discernibility/tukey_2_specialized.pkl'.]\n"
     ]
    },
    {
     "name": "stderr",
     "output_type": "stream",
     "text": [
      "100%|##########| 25000/25000 [00:00<00:00, 558519.67it/s]\n"
     ]
    }
   ],
   "source": [
    "%%cache tukey_2_specialized.pkl _tukey2\n",
    "with Pool(maxtasksperchild=5) as pool:\n",
    "    _tukey2 = list(pool.map(tukey, trange(_ends[0], _ends[1]), chunksize=1000))"
   ]
  },
  {
   "cell_type": "code",
   "execution_count": 10,
   "metadata": {},
   "outputs": [
    {
     "name": "stdout",
     "output_type": "stream",
     "text": [
      "[Skipped the cell's code and loaded variables _tukey3 from file '/home/gmrukwa/source/publication-domain-discernibility/tukey_3_specialized.pkl'.]\n"
     ]
    },
    {
     "name": "stderr",
     "output_type": "stream",
     "text": [
      "100%|##########| 25000/25000 [01:52<00:00, 221.25it/s]\n"
     ]
    }
   ],
   "source": [
    "%%cache tukey_3_specialized.pkl _tukey3\n",
    "with Pool(maxtasksperchild=5) as pool:\n",
    "    _tukey3 = list(pool.map(tukey, trange(_ends[1], _ends[2]), chunksize=1000))"
   ]
  },
  {
   "cell_type": "code",
   "execution_count": 11,
   "metadata": {},
   "outputs": [
    {
     "name": "stdout",
     "output_type": "stream",
     "text": [
      "[Skipped the cell's code and loaded variables _tukey4 from file '/home/gmrukwa/source/publication-domain-discernibility/tukey_4_specialized.pkl'.]\n"
     ]
    },
    {
     "name": "stderr",
     "output_type": "stream",
     "text": [
      "100%|##########| 25000/25000 [02:47<00:00, 149.14it/s]\n"
     ]
    }
   ],
   "source": [
    "%%cache tukey_4_specialized.pkl _tukey4\n",
    "with Pool(maxtasksperchild=5) as pool:\n",
    "    _tukey4 = list(pool.map(tukey, trange(_ends[2], _ends[3]), chunksize=1000))"
   ]
  },
  {
   "cell_type": "code",
   "execution_count": 12,
   "metadata": {},
   "outputs": [],
   "source": [
    "tukey_results = _tukey1 + _tukey2 + _tukey3 + _tukey4"
   ]
  },
  {
   "cell_type": "code",
   "execution_count": 21,
   "metadata": {},
   "outputs": [],
   "source": [
    "anova_alpha = 0.001\n",
    "tukey_alpha = 0.001"
   ]
  },
  {
   "cell_type": "code",
   "execution_count": 22,
   "metadata": {},
   "outputs": [],
   "source": [
    "# Bonferroni correction\n",
    "anova_alpha /= embedding.shape[0]"
   ]
  },
  {
   "cell_type": "code",
   "execution_count": 23,
   "metadata": {},
   "outputs": [
    {
     "data": {
      "text/plain": [
       "16545"
      ]
     },
     "execution_count": 23,
     "metadata": {},
     "output_type": "execute_result"
    }
   ],
   "source": [
    "np.sum(anova_pvals <= anova_alpha)"
   ]
  },
  {
   "cell_type": "code",
   "execution_count": 24,
   "metadata": {},
   "outputs": [],
   "source": [
    "n_unique = data.domain.nunique()\n",
    "expected_for_marker = n_unique - 1\n",
    "\n",
    "markers = [\n",
    "    i for i, v in enumerate(tukey_results)\n",
    "    if anova_pvals[i] <= anova_alpha\n",
    "    and np.sum(v.pvalues <= tukey_alpha) == expected_for_marker\n",
    "    and (squareform(v.pvalues <= tukey_alpha).sum(axis=0) == expected_for_marker).any()\n",
    "]\n",
    "upregulated_category = [\n",
    "    categories[np.argmax(squareform(tukey_results[i].pvalues <= tukey_alpha).sum(axis=0) == expected_for_marker)]\n",
    "    for i in markers\n",
    "]\n",
    "upregulated_counts = Counter(upregulated_category)"
   ]
  },
  {
   "cell_type": "code",
   "execution_count": 25,
   "metadata": {},
   "outputs": [
    {
     "data": {
      "text/plain": [
       "14287"
      ]
     },
     "execution_count": 25,
     "metadata": {},
     "output_type": "execute_result"
    }
   ],
   "source": [
    "len(markers)"
   ]
  },
  {
   "cell_type": "code",
   "execution_count": 26,
   "metadata": {},
   "outputs": [
    {
     "data": {
      "text/html": [
       "<table class=\"simpletable\">\n",
       "<caption>Multiple Comparison of Means - Tukey HSD, FWER=0.05</caption>\n",
       "<tr>\n",
       "       <th>group1</th>            <th>group2</th>       <th>meandiff</th> <th>p-adj</th>  <th>lower</th>   <th>upper</th> <th>reject</th>\n",
       "</tr>\n",
       "<tr>\n",
       "      <td>allergies</td>          <td>cancer</td>        <td>-0.0014</td> <td>0.001</td> <td>-0.0018</td> <td>-0.001</td>  <td>True</td> \n",
       "</tr>\n",
       "<tr>\n",
       "      <td>allergies</td>      <td>cardiovascular</td>    <td>-0.0014</td> <td>0.001</td> <td>-0.0018</td> <td>-0.001</td>  <td>True</td> \n",
       "</tr>\n",
       "<tr>\n",
       "      <td>allergies</td>     <td>neurodegenerative</td>  <td>-0.0014</td> <td>0.001</td> <td>-0.0019</td> <td>-0.001</td>  <td>True</td> \n",
       "</tr>\n",
       "<tr>\n",
       "      <td>allergies</td>        <td>psychiatric</td>     <td>-0.0014</td> <td>0.001</td> <td>-0.0019</td> <td>-0.001</td>  <td>True</td> \n",
       "</tr>\n",
       "<tr>\n",
       "       <td>cancer</td>        <td>cardiovascular</td>      <td>0.0</td>    <td>0.9</td>  <td>-0.0004</td> <td>0.0004</td>  <td>False</td>\n",
       "</tr>\n",
       "<tr>\n",
       "       <td>cancer</td>       <td>neurodegenerative</td>    <td>0.0</td>    <td>0.9</td>  <td>-0.0004</td> <td>0.0004</td>  <td>False</td>\n",
       "</tr>\n",
       "<tr>\n",
       "       <td>cancer</td>          <td>psychiatric</td>       <td>0.0</td>    <td>0.9</td>  <td>-0.0004</td> <td>0.0004</td>  <td>False</td>\n",
       "</tr>\n",
       "<tr>\n",
       "   <td>cardiovascular</td>   <td>neurodegenerative</td>    <td>0.0</td>    <td>0.9</td>  <td>-0.0004</td> <td>0.0004</td>  <td>False</td>\n",
       "</tr>\n",
       "<tr>\n",
       "   <td>cardiovascular</td>      <td>psychiatric</td>       <td>0.0</td>    <td>0.9</td>  <td>-0.0004</td> <td>0.0004</td>  <td>False</td>\n",
       "</tr>\n",
       "<tr>\n",
       "  <td>neurodegenerative</td>    <td>psychiatric</td>       <td>0.0</td>    <td>0.9</td>  <td>-0.0004</td> <td>0.0004</td>  <td>False</td>\n",
       "</tr>\n",
       "</table>"
      ],
      "text/plain": [
       "<class 'statsmodels.iolib.table.SimpleTable'>"
      ]
     },
     "execution_count": 26,
     "metadata": {},
     "output_type": "execute_result"
    }
   ],
   "source": [
    "tukey_results[markers[0]].summary()"
   ]
  },
  {
   "cell_type": "code",
   "execution_count": 27,
   "metadata": {},
   "outputs": [
    {
     "data": {
      "text/plain": [
       "'aaaai'"
      ]
     },
     "execution_count": 27,
     "metadata": {},
     "output_type": "execute_result"
    }
   ],
   "source": [
    "words[markers[0]]"
   ]
  },
  {
   "cell_type": "code",
   "execution_count": 28,
   "metadata": {},
   "outputs": [
    {
     "data": {
      "text/plain": [
       "Counter({'allergies': 3396,\n",
       "         'cancer': 2543,\n",
       "         'cardiovascular': 3322,\n",
       "         'neurodegenerative': 3657,\n",
       "         'psychiatric': 1369})"
      ]
     },
     "execution_count": 28,
     "metadata": {},
     "output_type": "execute_result"
    }
   ],
   "source": [
    "upregulated_counts"
   ]
  }
 ],
 "metadata": {
  "kernelspec": {
   "display_name": "Python 3",
   "language": "python",
   "name": "python3"
  },
  "language_info": {
   "codemirror_mode": {
    "name": "ipython",
    "version": 3
   },
   "file_extension": ".py",
   "mimetype": "text/x-python",
   "name": "python",
   "nbconvert_exporter": "python",
   "pygments_lexer": "ipython3",
   "version": "3.6.9"
  }
 },
 "nbformat": 4,
 "nbformat_minor": 4
}
